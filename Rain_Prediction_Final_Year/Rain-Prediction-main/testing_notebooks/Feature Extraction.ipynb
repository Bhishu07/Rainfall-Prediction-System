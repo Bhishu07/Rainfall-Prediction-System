{
 "cells": [
  {
   "cell_type": "code",
   "execution_count": 125,
   "id": "instrumental-technical",
   "metadata": {
    "id": "instrumental-technical"
   },
   "outputs": [],
   "source": [
    "import numpy as np\n",
    "import pandas as pd\n",
    "import matplotlib.pyplot as plt\n",
    "import seaborn as sns\n",
    "from sklearn import preprocessing\n",
    "import scipy.stats as stats\n",
    "from sklearn.model_selection import train_test_split\n",
    "from collections import Counter\n",
    "from imblearn.over_sampling import SMOTE\n",
    "from imblearn.combine import SMOTETomek\n",
    "from sklearn.metrics import accuracy_score,confusion_matrix,classification_report\n",
    "from sklearn import metrics\n",
    "from sklearn.feature_selection import mutual_info_classif\n",
    "from sklearn.feature_selection import SelectKBest\n",
    "from sklearn.ensemble import RandomForestClassifier\n",
    "from catboost import CatBoostClassifier\n",
    "from xgboost import XGBClassifier\n",
    "from sklearn.svm import SVC\n",
    "from sklearn.linear_model import LogisticRegression\n",
    "from sklearn.naive_bayes import GaussianNB\n",
    "from sklearn.neighbors import KNeighborsClassifier\n",
    "import joblib\n",
    "import pickle"
   ]
  },
  {
   "cell_type": "code",
   "execution_count": 126,
   "id": "modern-klein",
   "metadata": {
    "colab": {
     "base_uri": "https://localhost:8080/",
     "height": 590
    },
    "id": "modern-klein",
    "outputId": "15cd93a4-91c4-48b7-9c88-34d032de77a3"
   },
   "outputs": [
    {
     "data": {
      "text/html": [
       "<div>\n",
       "<style scoped>\n",
       "    .dataframe tbody tr th:only-of-type {\n",
       "        vertical-align: middle;\n",
       "    }\n",
       "\n",
       "    .dataframe tbody tr th {\n",
       "        vertical-align: top;\n",
       "    }\n",
       "\n",
       "    .dataframe thead th {\n",
       "        text-align: right;\n",
       "    }\n",
       "</style>\n",
       "<table border=\"1\" class=\"dataframe\">\n",
       "  <thead>\n",
       "    <tr style=\"text-align: right;\">\n",
       "      <th></th>\n",
       "      <th>Date</th>\n",
       "      <th>Location</th>\n",
       "      <th>MinTemp</th>\n",
       "      <th>MaxTemp</th>\n",
       "      <th>Rainfall</th>\n",
       "      <th>Evaporation</th>\n",
       "      <th>Sunshine</th>\n",
       "      <th>WindGustDir</th>\n",
       "      <th>WindGustSpeed</th>\n",
       "      <th>WindDir9am</th>\n",
       "      <th>WindDir3pm</th>\n",
       "      <th>WindSpeed9am</th>\n",
       "      <th>WindSpeed3pm</th>\n",
       "      <th>Humidity9am</th>\n",
       "      <th>Humidity3pm</th>\n",
       "      <th>Pressure9am</th>\n",
       "      <th>Pressure3pm</th>\n",
       "      <th>Cloud9am</th>\n",
       "      <th>Cloud3pm</th>\n",
       "      <th>Temp9am</th>\n",
       "      <th>Temp3pm</th>\n",
       "      <th>RainToday</th>\n",
       "      <th>RainTomorrow</th>\n",
       "    </tr>\n",
       "  </thead>\n",
       "  <tbody>\n",
       "    <tr>\n",
       "      <th>0</th>\n",
       "      <td>2008-12-01</td>\n",
       "      <td>Albury</td>\n",
       "      <td>13.4</td>\n",
       "      <td>22.9</td>\n",
       "      <td>0.6</td>\n",
       "      <td>NaN</td>\n",
       "      <td>NaN</td>\n",
       "      <td>W</td>\n",
       "      <td>44.0</td>\n",
       "      <td>W</td>\n",
       "      <td>WNW</td>\n",
       "      <td>20.0</td>\n",
       "      <td>24.0</td>\n",
       "      <td>71.0</td>\n",
       "      <td>22.0</td>\n",
       "      <td>1007.7</td>\n",
       "      <td>1007.1</td>\n",
       "      <td>8.0</td>\n",
       "      <td>NaN</td>\n",
       "      <td>16.9</td>\n",
       "      <td>21.8</td>\n",
       "      <td>No</td>\n",
       "      <td>No</td>\n",
       "    </tr>\n",
       "    <tr>\n",
       "      <th>1</th>\n",
       "      <td>2008-12-02</td>\n",
       "      <td>Albury</td>\n",
       "      <td>7.4</td>\n",
       "      <td>25.1</td>\n",
       "      <td>0.0</td>\n",
       "      <td>NaN</td>\n",
       "      <td>NaN</td>\n",
       "      <td>WNW</td>\n",
       "      <td>44.0</td>\n",
       "      <td>NNW</td>\n",
       "      <td>WSW</td>\n",
       "      <td>4.0</td>\n",
       "      <td>22.0</td>\n",
       "      <td>44.0</td>\n",
       "      <td>25.0</td>\n",
       "      <td>1010.6</td>\n",
       "      <td>1007.8</td>\n",
       "      <td>NaN</td>\n",
       "      <td>NaN</td>\n",
       "      <td>17.2</td>\n",
       "      <td>24.3</td>\n",
       "      <td>No</td>\n",
       "      <td>No</td>\n",
       "    </tr>\n",
       "    <tr>\n",
       "      <th>2</th>\n",
       "      <td>2008-12-03</td>\n",
       "      <td>Albury</td>\n",
       "      <td>12.9</td>\n",
       "      <td>25.7</td>\n",
       "      <td>0.0</td>\n",
       "      <td>NaN</td>\n",
       "      <td>NaN</td>\n",
       "      <td>WSW</td>\n",
       "      <td>46.0</td>\n",
       "      <td>W</td>\n",
       "      <td>WSW</td>\n",
       "      <td>19.0</td>\n",
       "      <td>26.0</td>\n",
       "      <td>38.0</td>\n",
       "      <td>30.0</td>\n",
       "      <td>1007.6</td>\n",
       "      <td>1008.7</td>\n",
       "      <td>NaN</td>\n",
       "      <td>2.0</td>\n",
       "      <td>21.0</td>\n",
       "      <td>23.2</td>\n",
       "      <td>No</td>\n",
       "      <td>No</td>\n",
       "    </tr>\n",
       "    <tr>\n",
       "      <th>3</th>\n",
       "      <td>2008-12-04</td>\n",
       "      <td>Albury</td>\n",
       "      <td>9.2</td>\n",
       "      <td>28.0</td>\n",
       "      <td>0.0</td>\n",
       "      <td>NaN</td>\n",
       "      <td>NaN</td>\n",
       "      <td>NE</td>\n",
       "      <td>24.0</td>\n",
       "      <td>SE</td>\n",
       "      <td>E</td>\n",
       "      <td>11.0</td>\n",
       "      <td>9.0</td>\n",
       "      <td>45.0</td>\n",
       "      <td>16.0</td>\n",
       "      <td>1017.6</td>\n",
       "      <td>1012.8</td>\n",
       "      <td>NaN</td>\n",
       "      <td>NaN</td>\n",
       "      <td>18.1</td>\n",
       "      <td>26.5</td>\n",
       "      <td>No</td>\n",
       "      <td>No</td>\n",
       "    </tr>\n",
       "    <tr>\n",
       "      <th>4</th>\n",
       "      <td>2008-12-05</td>\n",
       "      <td>Albury</td>\n",
       "      <td>17.5</td>\n",
       "      <td>32.3</td>\n",
       "      <td>1.0</td>\n",
       "      <td>NaN</td>\n",
       "      <td>NaN</td>\n",
       "      <td>W</td>\n",
       "      <td>41.0</td>\n",
       "      <td>ENE</td>\n",
       "      <td>NW</td>\n",
       "      <td>7.0</td>\n",
       "      <td>20.0</td>\n",
       "      <td>82.0</td>\n",
       "      <td>33.0</td>\n",
       "      <td>1010.8</td>\n",
       "      <td>1006.0</td>\n",
       "      <td>7.0</td>\n",
       "      <td>8.0</td>\n",
       "      <td>17.8</td>\n",
       "      <td>29.7</td>\n",
       "      <td>No</td>\n",
       "      <td>No</td>\n",
       "    </tr>\n",
       "    <tr>\n",
       "      <th>...</th>\n",
       "      <td>...</td>\n",
       "      <td>...</td>\n",
       "      <td>...</td>\n",
       "      <td>...</td>\n",
       "      <td>...</td>\n",
       "      <td>...</td>\n",
       "      <td>...</td>\n",
       "      <td>...</td>\n",
       "      <td>...</td>\n",
       "      <td>...</td>\n",
       "      <td>...</td>\n",
       "      <td>...</td>\n",
       "      <td>...</td>\n",
       "      <td>...</td>\n",
       "      <td>...</td>\n",
       "      <td>...</td>\n",
       "      <td>...</td>\n",
       "      <td>...</td>\n",
       "      <td>...</td>\n",
       "      <td>...</td>\n",
       "      <td>...</td>\n",
       "      <td>...</td>\n",
       "      <td>...</td>\n",
       "    </tr>\n",
       "    <tr>\n",
       "      <th>145455</th>\n",
       "      <td>2017-06-21</td>\n",
       "      <td>Uluru</td>\n",
       "      <td>2.8</td>\n",
       "      <td>23.4</td>\n",
       "      <td>0.0</td>\n",
       "      <td>NaN</td>\n",
       "      <td>NaN</td>\n",
       "      <td>E</td>\n",
       "      <td>31.0</td>\n",
       "      <td>SE</td>\n",
       "      <td>ENE</td>\n",
       "      <td>13.0</td>\n",
       "      <td>11.0</td>\n",
       "      <td>51.0</td>\n",
       "      <td>24.0</td>\n",
       "      <td>1024.6</td>\n",
       "      <td>1020.3</td>\n",
       "      <td>NaN</td>\n",
       "      <td>NaN</td>\n",
       "      <td>10.1</td>\n",
       "      <td>22.4</td>\n",
       "      <td>No</td>\n",
       "      <td>No</td>\n",
       "    </tr>\n",
       "    <tr>\n",
       "      <th>145456</th>\n",
       "      <td>2017-06-22</td>\n",
       "      <td>Uluru</td>\n",
       "      <td>3.6</td>\n",
       "      <td>25.3</td>\n",
       "      <td>0.0</td>\n",
       "      <td>NaN</td>\n",
       "      <td>NaN</td>\n",
       "      <td>NNW</td>\n",
       "      <td>22.0</td>\n",
       "      <td>SE</td>\n",
       "      <td>N</td>\n",
       "      <td>13.0</td>\n",
       "      <td>9.0</td>\n",
       "      <td>56.0</td>\n",
       "      <td>21.0</td>\n",
       "      <td>1023.5</td>\n",
       "      <td>1019.1</td>\n",
       "      <td>NaN</td>\n",
       "      <td>NaN</td>\n",
       "      <td>10.9</td>\n",
       "      <td>24.5</td>\n",
       "      <td>No</td>\n",
       "      <td>No</td>\n",
       "    </tr>\n",
       "    <tr>\n",
       "      <th>145457</th>\n",
       "      <td>2017-06-23</td>\n",
       "      <td>Uluru</td>\n",
       "      <td>5.4</td>\n",
       "      <td>26.9</td>\n",
       "      <td>0.0</td>\n",
       "      <td>NaN</td>\n",
       "      <td>NaN</td>\n",
       "      <td>N</td>\n",
       "      <td>37.0</td>\n",
       "      <td>SE</td>\n",
       "      <td>WNW</td>\n",
       "      <td>9.0</td>\n",
       "      <td>9.0</td>\n",
       "      <td>53.0</td>\n",
       "      <td>24.0</td>\n",
       "      <td>1021.0</td>\n",
       "      <td>1016.8</td>\n",
       "      <td>NaN</td>\n",
       "      <td>NaN</td>\n",
       "      <td>12.5</td>\n",
       "      <td>26.1</td>\n",
       "      <td>No</td>\n",
       "      <td>No</td>\n",
       "    </tr>\n",
       "    <tr>\n",
       "      <th>145458</th>\n",
       "      <td>2017-06-24</td>\n",
       "      <td>Uluru</td>\n",
       "      <td>7.8</td>\n",
       "      <td>27.0</td>\n",
       "      <td>0.0</td>\n",
       "      <td>NaN</td>\n",
       "      <td>NaN</td>\n",
       "      <td>SE</td>\n",
       "      <td>28.0</td>\n",
       "      <td>SSE</td>\n",
       "      <td>N</td>\n",
       "      <td>13.0</td>\n",
       "      <td>7.0</td>\n",
       "      <td>51.0</td>\n",
       "      <td>24.0</td>\n",
       "      <td>1019.4</td>\n",
       "      <td>1016.5</td>\n",
       "      <td>3.0</td>\n",
       "      <td>2.0</td>\n",
       "      <td>15.1</td>\n",
       "      <td>26.0</td>\n",
       "      <td>No</td>\n",
       "      <td>No</td>\n",
       "    </tr>\n",
       "    <tr>\n",
       "      <th>145459</th>\n",
       "      <td>2017-06-25</td>\n",
       "      <td>Uluru</td>\n",
       "      <td>14.9</td>\n",
       "      <td>NaN</td>\n",
       "      <td>0.0</td>\n",
       "      <td>NaN</td>\n",
       "      <td>NaN</td>\n",
       "      <td>NaN</td>\n",
       "      <td>NaN</td>\n",
       "      <td>ESE</td>\n",
       "      <td>ESE</td>\n",
       "      <td>17.0</td>\n",
       "      <td>17.0</td>\n",
       "      <td>62.0</td>\n",
       "      <td>36.0</td>\n",
       "      <td>1020.2</td>\n",
       "      <td>1017.9</td>\n",
       "      <td>8.0</td>\n",
       "      <td>8.0</td>\n",
       "      <td>15.0</td>\n",
       "      <td>20.9</td>\n",
       "      <td>No</td>\n",
       "      <td>NaN</td>\n",
       "    </tr>\n",
       "  </tbody>\n",
       "</table>\n",
       "<p>145460 rows × 23 columns</p>\n",
       "</div>"
      ],
      "text/plain": [
       "              Date Location  MinTemp  MaxTemp  Rainfall  Evaporation  \\\n",
       "0       2008-12-01   Albury     13.4     22.9       0.6          NaN   \n",
       "1       2008-12-02   Albury      7.4     25.1       0.0          NaN   \n",
       "2       2008-12-03   Albury     12.9     25.7       0.0          NaN   \n",
       "3       2008-12-04   Albury      9.2     28.0       0.0          NaN   \n",
       "4       2008-12-05   Albury     17.5     32.3       1.0          NaN   \n",
       "...            ...      ...      ...      ...       ...          ...   \n",
       "145455  2017-06-21    Uluru      2.8     23.4       0.0          NaN   \n",
       "145456  2017-06-22    Uluru      3.6     25.3       0.0          NaN   \n",
       "145457  2017-06-23    Uluru      5.4     26.9       0.0          NaN   \n",
       "145458  2017-06-24    Uluru      7.8     27.0       0.0          NaN   \n",
       "145459  2017-06-25    Uluru     14.9      NaN       0.0          NaN   \n",
       "\n",
       "        Sunshine WindGustDir  WindGustSpeed WindDir9am WindDir3pm  \\\n",
       "0            NaN           W           44.0          W        WNW   \n",
       "1            NaN         WNW           44.0        NNW        WSW   \n",
       "2            NaN         WSW           46.0          W        WSW   \n",
       "3            NaN          NE           24.0         SE          E   \n",
       "4            NaN           W           41.0        ENE         NW   \n",
       "...          ...         ...            ...        ...        ...   \n",
       "145455       NaN           E           31.0         SE        ENE   \n",
       "145456       NaN         NNW           22.0         SE          N   \n",
       "145457       NaN           N           37.0         SE        WNW   \n",
       "145458       NaN          SE           28.0        SSE          N   \n",
       "145459       NaN         NaN            NaN        ESE        ESE   \n",
       "\n",
       "        WindSpeed9am  WindSpeed3pm  Humidity9am  Humidity3pm  Pressure9am  \\\n",
       "0               20.0          24.0         71.0         22.0       1007.7   \n",
       "1                4.0          22.0         44.0         25.0       1010.6   \n",
       "2               19.0          26.0         38.0         30.0       1007.6   \n",
       "3               11.0           9.0         45.0         16.0       1017.6   \n",
       "4                7.0          20.0         82.0         33.0       1010.8   \n",
       "...              ...           ...          ...          ...          ...   \n",
       "145455          13.0          11.0         51.0         24.0       1024.6   \n",
       "145456          13.0           9.0         56.0         21.0       1023.5   \n",
       "145457           9.0           9.0         53.0         24.0       1021.0   \n",
       "145458          13.0           7.0         51.0         24.0       1019.4   \n",
       "145459          17.0          17.0         62.0         36.0       1020.2   \n",
       "\n",
       "        Pressure3pm  Cloud9am  Cloud3pm  Temp9am  Temp3pm RainToday  \\\n",
       "0            1007.1       8.0       NaN     16.9     21.8        No   \n",
       "1            1007.8       NaN       NaN     17.2     24.3        No   \n",
       "2            1008.7       NaN       2.0     21.0     23.2        No   \n",
       "3            1012.8       NaN       NaN     18.1     26.5        No   \n",
       "4            1006.0       7.0       8.0     17.8     29.7        No   \n",
       "...             ...       ...       ...      ...      ...       ...   \n",
       "145455       1020.3       NaN       NaN     10.1     22.4        No   \n",
       "145456       1019.1       NaN       NaN     10.9     24.5        No   \n",
       "145457       1016.8       NaN       NaN     12.5     26.1        No   \n",
       "145458       1016.5       3.0       2.0     15.1     26.0        No   \n",
       "145459       1017.9       8.0       8.0     15.0     20.9        No   \n",
       "\n",
       "       RainTomorrow  \n",
       "0                No  \n",
       "1                No  \n",
       "2                No  \n",
       "3                No  \n",
       "4                No  \n",
       "...             ...  \n",
       "145455           No  \n",
       "145456           No  \n",
       "145457           No  \n",
       "145458           No  \n",
       "145459          NaN  \n",
       "\n",
       "[145460 rows x 23 columns]"
      ]
     },
     "execution_count": 126,
     "metadata": {},
     "output_type": "execute_result"
    }
   ],
   "source": [
    "df = pd.read_csv(\"weatherAUS.csv\")\n",
    "pd.set_option(\"display.max_columns\", None)\n",
    "df"
   ]
  },
  {
   "cell_type": "code",
   "execution_count": 127,
   "id": "present-present",
   "metadata": {
    "colab": {
     "base_uri": "https://localhost:8080/"
    },
    "id": "present-present",
    "outputId": "93f77888-41cc-462b-b273-fb3ea67fcb16"
   },
   "outputs": [
    {
     "name": "stdout",
     "output_type": "stream",
     "text": [
      "Numerical Features Count 16\n",
      "Discrete feature Count 2\n",
      "Continuous feature Count 14\n",
      "Categorical feature Count 7\n"
     ]
    }
   ],
   "source": [
    "numerical_feature = [feature for feature in df.columns if df[feature].dtypes != 'O']\n",
    "discrete_feature=[feature for feature in numerical_feature if len(df[feature].unique())<25]\n",
    "continuous_feature = [feature for feature in numerical_feature if feature not in discrete_feature]\n",
    "categorical_feature = [feature for feature in df.columns if feature not in numerical_feature]\n",
    "print(\"Numerical Features Count {}\".format(len(numerical_feature)))\n",
    "print(\"Discrete feature Count {}\".format(len(discrete_feature)))\n",
    "print(\"Continuous feature Count {}\".format(len(continuous_feature)))\n",
    "print(\"Categorical feature Count {}\".format(len(categorical_feature)))"
   ]
  },
  {
   "cell_type": "code",
   "execution_count": 128,
   "id": "final-magazine",
   "metadata": {
    "colab": {
     "base_uri": "https://localhost:8080/"
    },
    "id": "final-magazine",
    "outputId": "db192dcb-3779-4861-b49e-f7c5d3065111"
   },
   "outputs": [
    {
     "data": {
      "text/plain": [
       "Date              0.000000\n",
       "Location          0.000000\n",
       "MinTemp           1.020899\n",
       "MaxTemp           0.866905\n",
       "Rainfall          2.241853\n",
       "Evaporation      43.166506\n",
       "Sunshine         48.009762\n",
       "WindGustDir       7.098859\n",
       "WindGustSpeed     7.055548\n",
       "WindDir9am        7.263853\n",
       "WindDir3pm        2.906641\n",
       "WindSpeed9am      1.214767\n",
       "WindSpeed3pm      2.105046\n",
       "Humidity9am       1.824557\n",
       "Humidity3pm       3.098446\n",
       "Pressure9am      10.356799\n",
       "Pressure3pm      10.331363\n",
       "Cloud9am         38.421559\n",
       "Cloud3pm         40.807095\n",
       "Temp9am           1.214767\n",
       "Temp3pm           2.481094\n",
       "RainToday         2.241853\n",
       "RainTomorrow      2.245978\n",
       "dtype: float64"
      ]
     },
     "execution_count": 128,
     "metadata": {},
     "output_type": "execute_result"
    }
   ],
   "source": [
    "# Handle Missing Values\n",
    "df.isnull().sum()*100/len(df)"
   ]
  },
  {
   "cell_type": "code",
   "execution_count": 129,
   "id": "medical-company",
   "metadata": {
    "colab": {
     "base_uri": "https://localhost:8080/"
    },
    "id": "medical-company",
    "outputId": "60b294d2-9ec2-4603-c2cd-ffb13d1eb476"
   },
   "outputs": [
    {
     "name": "stdout",
     "output_type": "stream",
     "text": [
      "['MinTemp', 'MaxTemp', 'Rainfall', 'Evaporation', 'Sunshine', 'WindGustSpeed', 'WindSpeed9am', 'WindSpeed3pm', 'Humidity9am', 'Humidity3pm', 'Pressure9am', 'Pressure3pm', 'Cloud9am', 'Cloud3pm', 'Temp9am', 'Temp3pm']\n"
     ]
    }
   ],
   "source": [
    "print(numerical_feature)"
   ]
  },
  {
   "cell_type": "code",
   "execution_count": 130,
   "id": "standard-shower",
   "metadata": {
    "id": "standard-shower"
   },
   "outputs": [],
   "source": [
    "def randomsampleimputation(df, variable):\n",
    "    df[variable]=df[variable]\n",
    "    random_sample=df[variable].dropna().sample(df[variable].isnull().sum(),random_state=0)\n",
    "    random_sample.index=df[df[variable].isnull()].index\n",
    "    df.loc[df[variable].isnull(),variable]=random_sample"
   ]
  },
  {
   "cell_type": "code",
   "execution_count": 131,
   "id": "previous-argument",
   "metadata": {
    "id": "previous-argument"
   },
   "outputs": [],
   "source": [
    "randomsampleimputation(df, \"Cloud9am\")\n",
    "randomsampleimputation(df, \"Cloud3pm\")\n",
    "randomsampleimputation(df, \"Evaporation\")\n",
    "randomsampleimputation(df, \"Sunshine\")"
   ]
  },
  {
   "cell_type": "code",
   "execution_count": 132,
   "id": "noted-platform",
   "metadata": {
    "id": "noted-platform"
   },
   "outputs": [],
   "source": [
    "for feature in continuous_feature:\n",
    "    if(df[feature].isnull().sum()*100/len(df))>0:\n",
    "        df[feature] = df[feature].fillna(df[feature].median())"
   ]
  },
  {
   "cell_type": "code",
   "execution_count": 133,
   "id": "covered-nancy",
   "metadata": {
    "colab": {
     "base_uri": "https://localhost:8080/"
    },
    "id": "covered-nancy",
    "outputId": "a1e30659-6845-4ade-b791-c352e691e8da"
   },
   "outputs": [
    {
     "data": {
      "text/plain": [
       "Date             0.000000\n",
       "Location         0.000000\n",
       "MinTemp          0.000000\n",
       "MaxTemp          0.000000\n",
       "Rainfall         0.000000\n",
       "Evaporation      0.000000\n",
       "Sunshine         0.000000\n",
       "WindGustDir      7.098859\n",
       "WindGustSpeed    0.000000\n",
       "WindDir9am       7.263853\n",
       "WindDir3pm       2.906641\n",
       "WindSpeed9am     0.000000\n",
       "WindSpeed3pm     0.000000\n",
       "Humidity9am      0.000000\n",
       "Humidity3pm      0.000000\n",
       "Pressure9am      0.000000\n",
       "Pressure3pm      0.000000\n",
       "Cloud9am         0.000000\n",
       "Cloud3pm         0.000000\n",
       "Temp9am          0.000000\n",
       "Temp3pm          0.000000\n",
       "RainToday        2.241853\n",
       "RainTomorrow     2.245978\n",
       "dtype: float64"
      ]
     },
     "execution_count": 133,
     "metadata": {},
     "output_type": "execute_result"
    }
   ],
   "source": [
    "df.isnull().sum()*100/len(df)"
   ]
  },
  {
   "cell_type": "code",
   "execution_count": 134,
   "id": "earned-lewis",
   "metadata": {
    "colab": {
     "base_uri": "https://localhost:8080/"
    },
    "id": "earned-lewis",
    "outputId": "dad9fc5f-013c-4d4b-8cb0-8c88be8f96f6"
   },
   "outputs": [
    {
     "data": {
      "text/plain": [
       "['Cloud9am', 'Cloud3pm']"
      ]
     },
     "execution_count": 134,
     "metadata": {},
     "output_type": "execute_result"
    }
   ],
   "source": [
    "discrete_feature"
   ]
  },
  {
   "cell_type": "code",
   "execution_count": 135,
   "id": "wrong-assault",
   "metadata": {
    "id": "wrong-assault"
   },
   "outputs": [],
   "source": [
    "def mode_nan(df,variable):\n",
    "    mode=df[variable].value_counts().index[0]\n",
    "    df[variable].fillna(mode,inplace=True)\n",
    "mode_nan(df,\"Cloud9am\")\n",
    "mode_nan(df,\"Cloud3pm\")"
   ]
  },
  {
   "cell_type": "code",
   "execution_count": 136,
   "id": "regulation-democrat",
   "metadata": {
    "colab": {
     "base_uri": "https://localhost:8080/",
     "height": 590
    },
    "id": "regulation-democrat",
    "outputId": "bba5cbf6-0d7d-49b7-ad53-43cb6a837dfc"
   },
   "outputs": [],
   "source": [
    "df[\"RainToday\"] = pd.get_dummies(df[\"RainToday\"], drop_first = True)\n",
    "df[\"RainTomorrow\"] = pd.get_dummies(df[\"RainTomorrow\"], drop_first = True)\n"
   ]
  },
  {
   "cell_type": "code",
   "execution_count": 137,
   "id": "harmful-batch",
   "metadata": {
    "colab": {
     "base_uri": "https://localhost:8080/"
    },
    "id": "harmful-batch",
    "outputId": "24348dd1-79f2-48cf-ab2d-bec5bc1c20c7"
   },
   "outputs": [
    {
     "name": "stdout",
     "output_type": "stream",
     "text": [
      "Date Index(['2007-11-01', '2007-12-15', '2008-02-03', '2008-01-31', '2008-01-30',\n",
      "       '2008-01-19', '2008-01-18', '2008-01-16', '2008-01-12', '2007-11-30',\n",
      "       ...\n",
      "       '2008-05-08', '2008-05-09', '2008-01-03', '2008-01-02', '2008-05-10',\n",
      "       '2008-05-11', '2008-05-12', '2008-05-13', '2008-05-14', '2007-12-25'],\n",
      "      dtype='object', name='Date', length=3436)\n",
      "Location Index(['Portland', 'Walpole', 'Cairns', 'Dartmoor', 'NorfolkIsland',\n",
      "       'MountGambier', 'Albany', 'Witchcliffe', 'CoffsHarbour', 'MountGinini',\n",
      "       'NorahHead', 'Darwin', 'Sydney', 'SydneyAirport', 'Ballarat',\n",
      "       'GoldCoast', 'Watsonia', 'Newcastle', 'Hobart', 'Wollongong',\n",
      "       'Williamtown', 'Launceston', 'Brisbane', 'MelbourneAirport', 'Adelaide',\n",
      "       'Sale', 'Albury', 'Perth', 'Melbourne', 'Nuriootpa', 'Penrith',\n",
      "       'BadgerysCreek', 'PerthAirport', 'Tuggeranong', 'Richmond', 'Bendigo',\n",
      "       'Canberra', 'WaggaWagga', 'Townsville', 'Katherine', 'PearceRAAF',\n",
      "       'SalmonGums', 'Nhil', 'Moree', 'Cobar', 'Mildura', 'AliceSprings',\n",
      "       'Uluru', 'Woomera'],\n",
      "      dtype='object', name='Location')\n",
      "WindGustDir Index(['NNW', 'NW', 'WNW', 'N', 'W', 'WSW', 'NNE', 'S', 'SSW', 'SW', 'SSE',\n",
      "       'NE', 'SE', 'ESE', 'ENE', 'E'],\n",
      "      dtype='object', name='WindGustDir')\n",
      "WindDir9am Index(['NNW', 'N', 'NW', 'NNE', 'WNW', 'W', 'WSW', 'SW', 'SSW', 'NE', 'S',\n",
      "       'SSE', 'ENE', 'SE', 'ESE', 'E'],\n",
      "      dtype='object', name='WindDir9am')\n",
      "WindDir3pm Index(['NW', 'NNW', 'N', 'WNW', 'W', 'NNE', 'WSW', 'SSW', 'S', 'SW', 'SE',\n",
      "       'NE', 'SSE', 'ENE', 'E', 'ESE'],\n",
      "      dtype='object', name='WindDir3pm')\n",
      "RainToday UInt64Index([1, 0], dtype='uint64', name='RainToday')\n",
      "RainTomorrow UInt64Index([1, 0], dtype='uint64', name='RainTomorrow')\n"
     ]
    }
   ],
   "source": [
    "for feature in categorical_feature:\n",
    "    print(feature, (df.groupby([feature])[\"RainTomorrow\"].mean().sort_values(ascending = False)).index)"
   ]
  },
  {
   "cell_type": "code",
   "execution_count": 138,
   "id": "brief-opening",
   "metadata": {
    "id": "brief-opening"
   },
   "outputs": [],
   "source": [
    "windgustdir = {'NNW':0, 'NW':1, 'WNW':2, 'N':3, 'W':4, 'WSW':5, 'NNE':6, 'S':7, 'SSW':8, 'SW':9, 'SSE':10,\n",
    "       'NE':11, 'SE':12, 'ESE':13, 'ENE':14, 'E':15}\n",
    "winddir9am = {'NNW':0, 'N':1, 'NW':2, 'NNE':3, 'WNW':4, 'W':5, 'WSW':6, 'SW':7, 'SSW':8, 'NE':9, 'S':10,\n",
    "       'SSE':11, 'ENE':12, 'SE':13, 'ESE':14, 'E':15}\n",
    "winddir3pm = {'NW':0, 'NNW':1, 'N':2, 'WNW':3, 'W':4, 'NNE':5, 'WSW':6, 'SSW':7, 'S':8, 'SW':9, 'SE':10,\n",
    "       'NE':11, 'SSE':12, 'ENE':13, 'E':14, 'ESE':15}\n",
    "df[\"WindGustDir\"] = df[\"WindGustDir\"].map(windgustdir)\n",
    "df[\"WindDir9am\"] = df[\"WindDir9am\"].map(winddir9am)\n",
    "df[\"WindDir3pm\"] = df[\"WindDir3pm\"].map(winddir3pm)"
   ]
  },
  {
   "cell_type": "code",
   "execution_count": 139,
   "id": "private-yahoo",
   "metadata": {
    "id": "private-yahoo"
   },
   "outputs": [],
   "source": [
    "df[\"WindGustDir\"] = df[\"WindGustDir\"].fillna(df[\"WindGustDir\"].value_counts().index[0])\n",
    "df[\"WindDir9am\"] = df[\"WindDir9am\"].fillna(df[\"WindDir9am\"].value_counts().index[0])\n",
    "df[\"WindDir3pm\"] = df[\"WindDir3pm\"].fillna(df[\"WindDir3pm\"].value_counts().index[0])"
   ]
  },
  {
   "cell_type": "code",
   "execution_count": 140,
   "id": "instant-wedding",
   "metadata": {
    "colab": {
     "base_uri": "https://localhost:8080/"
    },
    "id": "instant-wedding",
    "outputId": "6b7c5e6c-4edd-495b-9526-cbb70e8eb147"
   },
   "outputs": [
    {
     "data": {
      "text/plain": [
       "Date             0.0\n",
       "Location         0.0\n",
       "MinTemp          0.0\n",
       "MaxTemp          0.0\n",
       "Rainfall         0.0\n",
       "Evaporation      0.0\n",
       "Sunshine         0.0\n",
       "WindGustDir      0.0\n",
       "WindGustSpeed    0.0\n",
       "WindDir9am       0.0\n",
       "WindDir3pm       0.0\n",
       "WindSpeed9am     0.0\n",
       "WindSpeed3pm     0.0\n",
       "Humidity9am      0.0\n",
       "Humidity3pm      0.0\n",
       "Pressure9am      0.0\n",
       "Pressure3pm      0.0\n",
       "Cloud9am         0.0\n",
       "Cloud3pm         0.0\n",
       "Temp9am          0.0\n",
       "Temp3pm          0.0\n",
       "RainToday        0.0\n",
       "RainTomorrow     0.0\n",
       "dtype: float64"
      ]
     },
     "execution_count": 140,
     "metadata": {},
     "output_type": "execute_result"
    }
   ],
   "source": [
    "df.isnull().sum()*100/len(df)"
   ]
  },
  {
   "cell_type": "code",
   "execution_count": 141,
   "id": "south-lightning",
   "metadata": {
    "id": "south-lightning"
   },
   "outputs": [],
   "source": [
    "encoder = preprocessing.LabelEncoder() \n",
    "df['Location']= encoder.fit_transform(df['Location']) "
   ]
  },
  {
   "cell_type": "code",
   "execution_count": 142,
   "id": "fantastic-marijuana",
   "metadata": {
    "id": "fantastic-marijuana"
   },
   "outputs": [],
   "source": [
    "df[\"Date\"] = pd.to_datetime(df[\"Date\"], format = \"%Y-%m-%dT\", errors = \"coerce\")"
   ]
  },
  {
   "cell_type": "code",
   "execution_count": 143,
   "id": "adaptive-salmon",
   "metadata": {
    "id": "adaptive-salmon"
   },
   "outputs": [],
   "source": [
    "df[\"Date_year\"] = df[\"Date\"].dt.year\n",
    "df[\"Date_month\"] = df[\"Date\"].dt.month\n",
    "df[\"Date_day\"] = df[\"Date\"].dt.day"
   ]
  },
  {
   "cell_type": "code",
   "execution_count": 144,
   "id": "50bf11cc",
   "metadata": {},
   "outputs": [
    {
     "name": "stdout",
     "output_type": "stream",
     "text": [
      "-5.950000000000002 30.450000000000003\n"
     ]
    }
   ],
   "source": [
    "IQR=df.MinTemp.quantile(0.75)-df.MinTemp.quantile(0.25)\n",
    "lower_bridge=df.MinTemp.quantile(0.25)-(IQR*1.5)\n",
    "upper_bridge=df.MinTemp.quantile(0.75)+(IQR*1.5)\n",
    "print(lower_bridge, upper_bridge)"
   ]
  },
  {
   "cell_type": "code",
   "execution_count": 145,
   "id": "efec7877",
   "metadata": {},
   "outputs": [],
   "source": [
    "df.loc[df['MinTemp']>=30.45,'MinTemp']=30.45\n",
    "df.loc[df['MinTemp']<=-5.95,'MinTemp']=-5.95"
   ]
  },
  {
   "cell_type": "code",
   "execution_count": 146,
   "id": "d754d3a9",
   "metadata": {},
   "outputs": [
    {
     "name": "stdout",
     "output_type": "stream",
     "text": [
      "2.700000000000001 43.5\n"
     ]
    }
   ],
   "source": [
    "IQR=df.MaxTemp.quantile(0.75)-df.MaxTemp.quantile(0.25)\n",
    "lower_bridge=df.MaxTemp.quantile(0.25)-(IQR*1.5)\n",
    "upper_bridge=df.MaxTemp.quantile(0.75)+(IQR*1.5)\n",
    "print(lower_bridge, upper_bridge)"
   ]
  },
  {
   "cell_type": "code",
   "execution_count": 147,
   "id": "dee2cad4",
   "metadata": {},
   "outputs": [],
   "source": [
    "df.loc[df['MaxTemp']>=43.5,'MaxTemp']=43.5\n",
    "df.loc[df['MaxTemp']<=2.7,'MaxTemp']=2.7"
   ]
  },
  {
   "cell_type": "code",
   "execution_count": 148,
   "id": "82548577",
   "metadata": {},
   "outputs": [
    {
     "name": "stdout",
     "output_type": "stream",
     "text": [
      "-0.8999999999999999 1.5\n"
     ]
    }
   ],
   "source": [
    "IQR=df.Rainfall.quantile(0.75)-df.Rainfall.quantile(0.25)\n",
    "lower_bridge=df.Rainfall.quantile(0.25)-(IQR*1.5)\n",
    "upper_bridge=df.Rainfall.quantile(0.75)+(IQR*1.5)\n",
    "print(lower_bridge, upper_bridge)"
   ]
  },
  {
   "cell_type": "code",
   "execution_count": 149,
   "id": "769a6618",
   "metadata": {},
   "outputs": [],
   "source": [
    "df.loc[df['Rainfall']>=1.5,'Rainfall']=1.5\n",
    "df.loc[df['Rainfall']<=-0.89,'Rainfall']=-0.89"
   ]
  },
  {
   "cell_type": "code",
   "execution_count": 150,
   "id": "0b5f095f",
   "metadata": {},
   "outputs": [
    {
     "name": "stdout",
     "output_type": "stream",
     "text": [
      "-4.600000000000001 14.600000000000001\n"
     ]
    }
   ],
   "source": [
    "IQR=df.Evaporation.quantile(0.75)-df.Evaporation.quantile(0.25)\n",
    "lower_bridge=df.Evaporation.quantile(0.25)-(IQR*1.5)\n",
    "upper_bridge=df.Evaporation.quantile(0.75)+(IQR*1.5)\n",
    "print(lower_bridge, upper_bridge)"
   ]
  },
  {
   "cell_type": "code",
   "execution_count": 151,
   "id": "98ca160c",
   "metadata": {},
   "outputs": [],
   "source": [
    "df.loc[df['Evaporation']>=14.6,'Evaporation']=14.6\n",
    "df.loc[df['Evaporation']<=-4.6,'Evaporation']=-4.6"
   ]
  },
  {
   "cell_type": "code",
   "execution_count": 152,
   "id": "605c291f",
   "metadata": {},
   "outputs": [
    {
     "name": "stdout",
     "output_type": "stream",
     "text": [
      "8.5 68.5\n"
     ]
    }
   ],
   "source": [
    "IQR=df.WindGustSpeed.quantile(0.75)-df.WindGustSpeed.quantile(0.25)\n",
    "lower_bridge=df.WindGustSpeed.quantile(0.25)-(IQR*1.5)\n",
    "upper_bridge=df.WindGustSpeed.quantile(0.75)+(IQR*1.5)\n",
    "print(lower_bridge, upper_bridge)"
   ]
  },
  {
   "cell_type": "code",
   "execution_count": 153,
   "id": "81bb3b4a",
   "metadata": {},
   "outputs": [],
   "source": [
    "df.loc[df['WindGustSpeed']>=68.5,'WindGustSpeed']=68.5\n",
    "df.loc[df['WindGustSpeed']<=8.5,'WindGustSpeed']=8.5"
   ]
  },
  {
   "cell_type": "code",
   "execution_count": 154,
   "id": "081ed77c",
   "metadata": {},
   "outputs": [
    {
     "name": "stdout",
     "output_type": "stream",
     "text": [
      "-11.0 37.0\n"
     ]
    }
   ],
   "source": [
    "IQR=df.WindSpeed9am.quantile(0.75)-df.WindSpeed9am.quantile(0.25)\n",
    "lower_bridge=df.WindSpeed9am.quantile(0.25)-(IQR*1.5)\n",
    "upper_bridge=df.WindSpeed9am.quantile(0.75)+(IQR*1.5)\n",
    "print(lower_bridge, upper_bridge)"
   ]
  },
  {
   "cell_type": "code",
   "execution_count": 155,
   "id": "74708e82",
   "metadata": {},
   "outputs": [],
   "source": [
    "df.loc[df['WindSpeed9am']>=37,'WindSpeed9am']=37\n",
    "df.loc[df['WindSpeed9am']<=-11,'WindSpeed9am']=-11"
   ]
  },
  {
   "cell_type": "code",
   "execution_count": 156,
   "id": "b3bc83c5",
   "metadata": {},
   "outputs": [
    {
     "name": "stdout",
     "output_type": "stream",
     "text": [
      "-3.5 40.5\n"
     ]
    }
   ],
   "source": [
    "IQR=df.WindSpeed3pm.quantile(0.75)-df.WindSpeed3pm.quantile(0.25)\n",
    "lower_bridge=df.WindSpeed3pm.quantile(0.25)-(IQR*1.5)\n",
    "upper_bridge=df.WindSpeed3pm.quantile(0.75)+(IQR*1.5)\n",
    "print(lower_bridge, upper_bridge)"
   ]
  },
  {
   "cell_type": "code",
   "execution_count": 157,
   "id": "632c8873",
   "metadata": {},
   "outputs": [],
   "source": [
    "df.loc[df['WindSpeed3pm']>40.5,'WindSpeed3pm']=40.5\n",
    "df.loc[df['WindSpeed3pm']<=-3.5,'WindSpeed3pm']=-3.5"
   ]
  },
  {
   "cell_type": "code",
   "execution_count": 158,
   "id": "6194b2cd",
   "metadata": {},
   "outputs": [
    {
     "name": "stdout",
     "output_type": "stream",
     "text": [
      "18.0 122.0\n"
     ]
    }
   ],
   "source": [
    "IQR=df.Humidity9am.quantile(0.75)-df.Humidity9am.quantile(0.25)\n",
    "lower_bridge=df.Humidity9am.quantile(0.25)-(IQR*1.5)\n",
    "upper_bridge=df.Humidity9am.quantile(0.75)+(IQR*1.5)\n",
    "print(lower_bridge, upper_bridge)"
   ]
  },
  {
   "cell_type": "code",
   "execution_count": 159,
   "id": "0c2831d9",
   "metadata": {},
   "outputs": [],
   "source": [
    "df.loc[df['Humidity9am']>=122,'Humidity9am']=122\n",
    "df.loc[df['Humidity9am']<=18,'Humidity9am']=18"
   ]
  },
  {
   "cell_type": "code",
   "execution_count": 160,
   "id": "206c9d18",
   "metadata": {},
   "outputs": [
    {
     "name": "stdout",
     "output_type": "stream",
     "text": [
      "-5.0 107.0\n"
     ]
    }
   ],
   "source": [
    "IQR=df.Humidity3pm.quantile(0.75)-df.Humidity3pm.quantile(0.25)\n",
    "lower_bridge=df.Humidity3pm.quantile(0.25)-(IQR*1.5)\n",
    "upper_bridge=df.Humidity3pm.quantile(0.75)+(IQR*1.5)\n",
    "print(lower_bridge, upper_bridge)"
   ]
  },
  {
   "cell_type": "code",
   "execution_count": 161,
   "id": "bc948803",
   "metadata": {},
   "outputs": [],
   "source": [
    "df.loc[df['Humidity3pm']>=107,'Humidity3pm']=107\n",
    "df.loc[df['Humidity3pm']<=0,'Humidity3pm']=0"
   ]
  },
  {
   "cell_type": "code",
   "execution_count": 162,
   "id": "064e363d",
   "metadata": {},
   "outputs": [
    {
     "name": "stdout",
     "output_type": "stream",
     "text": [
      "1001.0500000000001 1034.25\n"
     ]
    }
   ],
   "source": [
    "IQR=df.Pressure9am.quantile(0.75)-df.Pressure9am.quantile(0.25)\n",
    "lower_bridge=df.Pressure9am.quantile(0.25)-(IQR*1.5)\n",
    "upper_bridge=df.Pressure9am.quantile(0.75)+(IQR*1.5)\n",
    "print(lower_bridge, upper_bridge)"
   ]
  },
  {
   "cell_type": "code",
   "execution_count": 163,
   "id": "d755d77b",
   "metadata": {},
   "outputs": [],
   "source": [
    "df.loc[df['Pressure9am']>=1034.25,'Pressure9am']=1034.25\n",
    "df.loc[df['Pressure9am']<=1001.05,'Pressure9am']=1001.05"
   ]
  },
  {
   "cell_type": "code",
   "execution_count": 164,
   "id": "d754d3a9",
   "metadata": {},
   "outputs": [
    {
     "name": "stdout",
     "output_type": "stream",
     "text": [
      "998.6500000000001 1031.85\n"
     ]
    }
   ],
   "source": [
    "IQR=df.Pressure3pm.quantile(0.75)-df.Pressure3pm.quantile(0.25)\n",
    "lower_bridge=df.Pressure3pm.quantile(0.25)-(IQR*1.5)\n",
    "upper_bridge=df.Pressure3pm.quantile(0.75)+(IQR*1.5)\n",
    "print(lower_bridge, upper_bridge)"
   ]
  },
  {
   "cell_type": "code",
   "execution_count": 165,
   "id": "d754d3a9",
   "metadata": {},
   "outputs": [],
   "source": [
    "df.loc[df['Pressure3pm']>=1031.85,'Pressure3pm']=1031.85\n",
    "df.loc[df['Pressure3pm']<=998.65,'Pressure3pm']=998.65"
   ]
  },
  {
   "cell_type": "code",
   "execution_count": 166,
   "id": "d754d3a9",
   "metadata": {},
   "outputs": [
    {
     "name": "stdout",
     "output_type": "stream",
     "text": [
      "-1.4999999999999982 35.3\n"
     ]
    }
   ],
   "source": [
    "IQR=df.Temp9am.quantile(0.75)-df.Temp9am.quantile(0.25)\n",
    "lower_bridge=df.Temp9am.quantile(0.25)-(IQR*1.5)\n",
    "upper_bridge=df.Temp9am.quantile(0.75)+(IQR*1.5)\n",
    "print(lower_bridge, upper_bridge)"
   ]
  },
  {
   "cell_type": "code",
   "execution_count": 167,
   "id": "d754d3a9",
   "metadata": {},
   "outputs": [],
   "source": [
    "df.loc[df['Temp9am']>=35.3,'Temp9am']=35.3\n",
    "df.loc[df['Temp9am']<=-1.49,'Temp9am']=-1.49"
   ]
  },
  {
   "cell_type": "code",
   "execution_count": 168,
   "id": "fc6d770e",
   "metadata": {},
   "outputs": [
    {
     "name": "stdout",
     "output_type": "stream",
     "text": [
      "2.4499999999999993 40.45\n"
     ]
    }
   ],
   "source": [
    "IQR=df.Temp3pm.quantile(0.75)-df.Temp3pm.quantile(0.25)\n",
    "lower_bridge=df.Temp3pm.quantile(0.25)-(IQR*1.5)\n",
    "upper_bridge=df.Temp3pm.quantile(0.75)+(IQR*1.5)\n",
    "print(lower_bridge, upper_bridge)"
   ]
  },
  {
   "cell_type": "code",
   "execution_count": 169,
   "id": "f29dba47",
   "metadata": {},
   "outputs": [],
   "source": [
    "df.loc[df['Temp3pm']>=40.45,'Temp3pm']=40.45\n",
    "df.loc[df['Temp3pm']<=2.45,'Temp3pm']=2.45"
   ]
  },
  {
   "cell_type": "code",
   "execution_count": 170,
   "id": "2205371e",
   "metadata": {},
   "outputs": [],
   "source": [
    "X = df.drop([\"RainTomorrow\", \"Date\"], axis=1)\n",
    "Y = df[\"RainTomorrow\"]"
   ]
  },
  {
   "cell_type": "code",
   "execution_count": 171,
   "id": "5ce8682f",
   "metadata": {},
   "outputs": [],
   "source": [
    "X_train, X_test, y_train, y_test = train_test_split(X,Y, test_size =0.2, stratify = Y, random_state = 0)"
   ]
  },
  {
   "cell_type": "code",
   "execution_count": 172,
   "id": "intimate-officer",
   "metadata": {},
   "outputs": [
    {
     "data": {
      "text/plain": [
       "array([0.01253077, 0.00495192, 0.01376475, 0.04811445, 0.00485195,\n",
       "       0.02798174, 0.00538423, 0.02572283, 0.00606537, 0.00402768,\n",
       "       0.00429225, 0.0058897 , 0.03740158, 0.10963209, 0.02549911,\n",
       "       0.02437645, 0.02233405, 0.03220074, 0.00122077, 0.01834604,\n",
       "       0.04405772, 0.0009776 , 0.00191334, 0.00018845])"
      ]
     },
     "execution_count": 172,
     "metadata": {},
     "output_type": "execute_result"
    }
   ],
   "source": [
    "mutual_info = mutual_info_classif(X_train, y_train)\n",
    "mutual_info"
   ]
  },
  {
   "cell_type": "code",
   "execution_count": 173,
   "id": "academic-render",
   "metadata": {},
   "outputs": [
    {
     "data": {
      "text/plain": [
       "Humidity3pm      0.109632\n",
       "Rainfall         0.048114\n",
       "RainToday        0.044058\n",
       "Humidity9am      0.037402\n",
       "Cloud3pm         0.032201\n",
       "Sunshine         0.027982\n",
       "WindGustSpeed    0.025723\n",
       "Pressure9am      0.025499\n",
       "Pressure3pm      0.024376\n",
       "Cloud9am         0.022334\n",
       "Temp3pm          0.018346\n",
       "MaxTemp          0.013765\n",
       "Location         0.012531\n",
       "WindDir9am       0.006065\n",
       "WindSpeed3pm     0.005890\n",
       "WindGustDir      0.005384\n",
       "MinTemp          0.004952\n",
       "Evaporation      0.004852\n",
       "WindSpeed9am     0.004292\n",
       "WindDir3pm       0.004028\n",
       "Date_month       0.001913\n",
       "Temp9am          0.001221\n",
       "Date_year        0.000978\n",
       "Date_day         0.000188\n",
       "dtype: float64"
      ]
     },
     "execution_count": 173,
     "metadata": {},
     "output_type": "execute_result"
    }
   ],
   "source": [
    "mutual_info = pd.Series(mutual_info)\n",
    "mutual_info.index = X_train.columns\n",
    "mutual_info.sort_values(ascending=False)"
   ]
  },
  {
   "cell_type": "code",
   "execution_count": 174,
   "id": "honey-indication",
   "metadata": {},
   "outputs": [
    {
     "data": {
      "text/plain": [
       "<AxesSubplot:>"
      ]
     },
     "execution_count": 174,
     "metadata": {},
     "output_type": "execute_result"
    },
    {
     "data": {
      "image/png": "[encoded data removed]",
      "text/plain": [
       "<Figure size 1440x576 with 1 Axes>"
      ]
     },
     "metadata": {
      "needs_background": "light"
     },
     "output_type": "display_data"
    }
   ],
   "source": [
    "mutual_info.sort_values(ascending=False).plot.bar(figsize=(20, 8))"
   ]
  },
  {
   "cell_type": "code",
   "execution_count": 175,
   "id": "black-wagon",
   "metadata": {},
   "outputs": [
    {
     "data": {
      "text/plain": [
       "Index(['Rainfall', 'Sunshine', 'WindGustSpeed', 'Humidity9am', 'Humidity3pm',\n",
       "       'Pressure9am', 'Pressure3pm', 'Cloud9am', 'Cloud3pm', 'RainToday'],\n",
       "      dtype='object')"
      ]
     },
     "execution_count": 175,
     "metadata": {},
     "output_type": "execute_result"
    }
   ],
   "source": [
    "sel_five_cols = SelectKBest(mutual_info_classif, k=10)\n",
    "sel_five_cols.fit(X_train, y_train)\n",
    "X_train.columns[sel_five_cols.get_support()]"
   ]
  },
  {
   "cell_type": "code",
   "execution_count": 176,
   "id": "c9cfec72",
   "metadata": {},
   "outputs": [],
   "source": [
    "X = df.drop([\"RainTomorrow\", \"Date\",\"MinTemp\",\"Evaporation\",\"WindGustDir\",\"WindDir9am\",\"WindSpeed9am\",\"WindSpeed3pm\",\"Temp9am\",\"Date_month\",\"Date_day\",\"Temp3pm\",\"Temp9am\",\"WindDir3pm\",\"Location\" ], axis=1)\n",
    "Y = df[\"RainTomorrow\"]"
   ]
  },
  {
   "cell_type": "code",
   "execution_count": 177,
   "id": "1675dd90",
   "metadata": {},
   "outputs": [],
   "source": [
    "X_train, X_test, y_train, y_test = train_test_split(X,Y, test_size =0.2, stratify = Y, random_state = 0)"
   ]
  },
  {
   "cell_type": "code",
   "execution_count": 178,
   "id": "08da15e5",
   "metadata": {},
   "outputs": [
    {
     "name": "stdout",
     "output_type": "stream",
     "text": [
      "The number of classes before fit Counter({0: 90866, 1: 25502})\n",
      "The number of classes after fit Counter({0: 90866, 1: 90866})\n"
     ]
    }
   ],
   "source": [
    "sm=SMOTE(random_state=0)\n",
    "X_train_res, y_train_res = sm.fit_resample(X_train, y_train)\n",
    "print(\"The number of classes before fit {}\".format(Counter(y_train)))\n",
    "print(\"The number of classes after fit {}\".format(Counter(y_train_res)))"
   ]
  },
  {
   "cell_type": "code",
   "execution_count": 179,
   "id": "638a8ffa",
   "metadata": {},
   "outputs": [
    {
     "name": "stdout",
     "output_type": "stream",
     "text": [
      "The number of classes before fit Counter({0: 22717, 1: 6375})\n",
      "The number of classes after fit Counter({0: 22717, 1: 22717})\n"
     ]
    }
   ],
   "source": [
    "sm=SMOTE(random_state=0)\n",
    "X_test_res, y_test_res = sm.fit_resample(X_test, y_test)\n",
    "print(\"The number of classes before fit {}\".format(Counter(y_test)))\n",
    "print(\"The number of classes after fit {}\".format(Counter(y_test_res)))"
   ]
  },
  {
   "cell_type": "code",
   "execution_count": 180,
   "id": "2345a582",
   "metadata": {},
   "outputs": [],
   "source": [
    "best_params = {\n",
    "            'bagging_temperature': 0.5,\n",
    "            'depth': 8,\n",
    "            'iterations': 1000, \n",
    "            'l2_leaf_reg': 25,\n",
    "            'learning_rate': 0.05,\n",
    "            'sampling_frequency': 'PerTreeLevel',\n",
    "            'leaf_estimation_method': 'Gradient',\n",
    "            'random_strength': 0.8,\n",
    "            'boosting_type': 'Ordered',\n",
    "            'feature_border_type': 'MaxLogSum',\n",
    "            'l2_leaf_reg': 50,\n",
    "            'max_ctr_complexity': 2,\n",
    "            'fold_len_multiplier': 2\n",
    "    }\n"
   ]
  },
  {
   "cell_type": "code",
   "execution_count": 181,
   "id": "80d1c436",
   "metadata": {},
   "outputs": [],
   "source": [
    "cat = CatBoostClassifier(eval_metric = \"AUC\",**best_params,\n",
    "                               loss_function='Logloss',\n",
    "                               \n",
    "                               nan_mode='Min',\n",
    "                               thread_count=8,\n",
    "                               task_type='CPU',\n",
    "                               verbose=True)\n"
   ]
  },
  {
   "cell_type": "code",
   "execution_count": 182,
   "id": "e2d42804",
   "metadata": {},
   "outputs": [
    {
     "name": "stdout",
     "output_type": "stream",
     "text": [
      "0:\ttest: 0.8198478\tbest: 0.8198478 (0)\ttotal: 310ms\tremaining: 5m 9s\n",
      "300:\ttest: 0.8637775\tbest: 0.8637775 (300)\ttotal: 1m 45s\tremaining: 4m 4s\n",
      "600:\ttest: 0.8682259\tbest: 0.8682259 (600)\ttotal: 3m 33s\tremaining: 2m 22s\n",
      "900:\ttest: 0.8691723\tbest: 0.8691723 (900)\ttotal: 5m 4s\tremaining: 33.4s\n",
      "999:\ttest: 0.8694412\tbest: 0.8694412 (999)\ttotal: 5m 35s\tremaining: 0us\n",
      "\n",
      "bestTest = 0.8694411838\n",
      "bestIteration = 999\n",
      "\n"
     ]
    },
    {
     "data": {
      "text/plain": [
       "<catboost.core.CatBoostClassifier at 0x140855f1190>"
      ]
     },
     "execution_count": 182,
     "metadata": {},
     "output_type": "execute_result"
    }
   ],
   "source": [
    "cat.fit(X_train_res, y_train_res,eval_set=(X_test, y_test),\n",
    "                              \n",
    "                             verbose_eval=300,\n",
    "                            early_stopping_rounds=999,\n",
    "                            use_best_model=True,\n",
    "                              plot=False)"
   ]
  },
  {
   "cell_type": "code",
   "execution_count": 183,
   "id": "e97ac89c",
   "metadata": {},
   "outputs": [
    {
     "data": {
      "text/plain": [
       "999"
      ]
     },
     "execution_count": 183,
     "metadata": {},
     "output_type": "execute_result"
    }
   ],
   "source": [
    "cat.get_best_iteration()"
   ]
  },
  {
   "cell_type": "code",
   "execution_count": 184,
   "id": "fddf5e73",
   "metadata": {},
   "outputs": [
    {
     "name": "stdout",
     "output_type": "stream",
     "text": [
      "[[21310  1407]\n",
      " [ 3136 19581]]\n",
      "0.9000088039793986\n",
      "              precision    recall  f1-score   support\n",
      "\n",
      "           0       0.87      0.94      0.90     22717\n",
      "           1       0.93      0.86      0.90     22717\n",
      "\n",
      "    accuracy                           0.90     45434\n",
      "   macro avg       0.90      0.90      0.90     45434\n",
      "weighted avg       0.90      0.90      0.90     45434\n",
      "\n"
     ]
    }
   ],
   "source": [
    "y_pred = cat.predict(X_test_res)\n",
    "print(confusion_matrix(y_test_res,y_pred))\n",
    "print(accuracy_score(y_test_res,y_pred))\n",
    "print(classification_report(y_test_res,y_pred))"
   ]
  },
  {
   "cell_type": "code",
   "execution_count": 185,
   "id": "5bf6548e",
   "metadata": {},
   "outputs": [],
   "source": [
    "pickle_out=open(r'D:/Rain_Prediction_Final_Year/Rain-Prediction-main/models/cat_fe.pkl',mode=\"wb\")\n",
    "pickle.dump(cat,pickle_out)\n",
    "pickle_out.close()"
   ]
  }
 ],
 "metadata": {
  "accelerator": "GPU",
  "colab": {
   "name": "Preprocessing.ipynb",
   "provenance": []
  },
  "interpreter": {
   "hash": "2764dd613b1a847d1843cf422e6453ba0c7e43709a1d3e98919794ae93254d75"
  },
  "kernelspec": {
   "display_name": "Python 3.6.13 64-bit ('myenv': conda)",
   "name": "python3"
  },
  "language_info": {
   "codemirror_mode": {
    "name": "ipython",
    "version": 3
   },
   "file_extension": ".py",
   "mimetype": "text/x-python",
   "name": "python",
   "nbconvert_exporter": "python",
   "pygments_lexer": "ipython3",
   "version": "3.9.6"
  }
 },
 "nbformat": 4,
 "nbformat_minor": 5
}
